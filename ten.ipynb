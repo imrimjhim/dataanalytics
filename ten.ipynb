{
 "cells": [
  {
   "cell_type": "code",
   "execution_count": 5,
   "id": "0b8caf8b",
   "metadata": {},
   "outputs": [
    {
     "name": "stdout",
     "output_type": "stream",
     "text": [
      "you are travelling trough track\n"
     ]
    }
   ],
   "source": [
    "mode = (input(\"enter mode land , water , air : \"))\n",
    "if mode == \"land\" :\n",
    "    T = input(\"enter the land transport\")\n",
    "    if T == \"metro\" or \"train\":\n",
    "        print(\"you are travelling trough track\")\n",
    "    else :\n",
    "        print(\"you are travelling through road\")\n",
    "elif mode == \"water\":\n",
    "    T = input(\"enter the water transport\")\n",
    "    if T == \"Ship\" or \"boat\":\n",
    "        print(\"you are travelling trough ship or boat\")\n",
    "    else :\n",
    "        print(\"another water tranport instead of ship or boat\")\n",
    "elif mode == \"air\":\n",
    "    T = input(\"enter the air transport\")\n",
    "    if T == \"plane\" or \"helicopter\":\n",
    "        print(\"you are travelling trough plan or helicopter\")\n",
    "    else :\n",
    "        print(\"other private air tranport\")\n",
    "\n"
   ]
  }
 ],
 "metadata": {
  "kernelspec": {
   "display_name": "base",
   "language": "python",
   "name": "python3"
  },
  "language_info": {
   "codemirror_mode": {
    "name": "ipython",
    "version": 3
   },
   "file_extension": ".py",
   "mimetype": "text/x-python",
   "name": "python",
   "nbconvert_exporter": "python",
   "pygments_lexer": "ipython3",
   "version": "3.13.5"
  }
 },
 "nbformat": 4,
 "nbformat_minor": 5
}
