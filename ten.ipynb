{
 "cells": [
  {
   "cell_type": "code",
   "execution_count": 1,
   "id": "0b8caf8b",
   "metadata": {},
   "outputs": [
    {
     "name": "stdout",
     "output_type": "stream",
     "text": [
      "13\n",
      "3\n",
      "40\n",
      "3\n",
      "True\n",
      "False\n",
      "hello python\n",
      "21\n"
     ]
    }
   ],
   "source": [
    "# datatype\n",
    "a=21  # integer\n",
    "b=34.98  #float\n",
    "c=\"hello\" #string\n",
    "d=True #boolen\n",
    "e=None #none \n",
    "# arithmetic operator +,-,*,/,//,%,**\n",
    "a=8\n",
    "b=5\n",
    "print(a+b)\n",
    "print(a-b)\n",
    "print(a*b)\n",
    "print(a%b)\n",
    "# comparison operator >,<,==,>=,<=,!=\n",
    "print(a>b)\n",
    "print(a==b)\n",
    "# input function\n",
    "a=input(\"enter input\") #by default takes string \n",
    "print(a)\n",
    "# to change the type use typecasting\n",
    "#type casting functions= int(),float(),bool()\n",
    "g=int(input(\"enter a number\"))\n",
    "print(g)"
   ]
  },
  {
   "cell_type": "code",
   "execution_count": 3,
   "id": "b56c7484",
   "metadata": {},
   "outputs": [
    {
     "name": "stdout",
     "output_type": "stream",
     "text": [
      "you are travelling trough metro or train\n"
     ]
    }
   ],
   "source": [
    "# custom question\n",
    "mode = input(\"enter mode land , water , air : \")\n",
    "if mode == \"land\" :\n",
    "    T = input(\"enter the land transport\")\n",
    "    if T == \"metro\" or \"train\":\n",
    "        print(\"you are travelling trough metro or train\")\n",
    "    else :\n",
    "        print(\"you are travelling through road\")\n",
    "elif mode == \"water\":\n",
    "    T = input(\"enter the water transport\")\n",
    "    if T == \"Ship\" or \"boat\":\n",
    "        print(\"you are travelling trough ship or boat\")\n",
    "    else :\n",
    "        print(\"another water tranport instead of ship or boat\")\n",
    "elif mode == \"air\":\n",
    "    T = input(\"enter the air transport\")\n",
    "    if T == \"plane\" or \"helicopter\":\n",
    "        print(\"you are travelling trough plan or helicopter\")\n",
    "    else :\n",
    "        print(\"other private air tranport\")\n",
    "\n"
   ]
  }
 ],
 "metadata": {
  "kernelspec": {
   "display_name": "base",
   "language": "python",
   "name": "python3"
  },
  "language_info": {
   "codemirror_mode": {
    "name": "ipython",
    "version": 3
   },
   "file_extension": ".py",
   "mimetype": "text/x-python",
   "name": "python",
   "nbconvert_exporter": "python",
   "pygments_lexer": "ipython3",
   "version": "3.13.5"
  }
 },
 "nbformat": 4,
 "nbformat_minor": 5
}
