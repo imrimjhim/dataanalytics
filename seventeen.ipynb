{
 "cells": [
  {
   "cell_type": "code",
   "execution_count": 9,
   "id": "e314c067",
   "metadata": {},
   "outputs": [
    {
     "name": "stdout",
     "output_type": "stream",
     "text": [
      "[4, 6, 7, 8, 10]\n"
     ]
    }
   ],
   "source": [
    "l=[]\n",
    "a=1\n",
    "while a<=5:\n",
    "     t=int(input(\"enter a number:\"))\n",
    "     l.append(t)\n",
    "     a+=1\n",
    "print(l)"
   ]
  },
  {
   "cell_type": "code",
   "execution_count": 10,
   "id": "35c3d3b8",
   "metadata": {},
   "outputs": [
    {
     "name": "stdout",
     "output_type": "stream",
     "text": [
      "[1, 2, 3, 4, 5, 6]\n"
     ]
    }
   ],
   "source": [
    "l1=[1,2,3]\n",
    "l2=[4,5,6]\n",
    "l1.extend(l2)\n",
    "print(l1)"
   ]
  },
  {
   "cell_type": "code",
   "execution_count": 13,
   "id": "584eae08",
   "metadata": {},
   "outputs": [
    {
     "name": "stdout",
     "output_type": "stream",
     "text": [
      "[10, 20, 25, 30, 40]\n"
     ]
    }
   ],
   "source": [
    "l=[10,20,30,40]\n",
    "l.insert(2,25)\n",
    "print(l)\n"
   ]
  },
  {
   "cell_type": "code",
   "execution_count": 15,
   "id": "5f0cb4dd",
   "metadata": {},
   "outputs": [
    {
     "name": "stdout",
     "output_type": "stream",
     "text": [
      "[10, 30, 20, 40]\n"
     ]
    }
   ],
   "source": [
    "l=[10,20,30,20,40]\n",
    "l.remove(20)\n",
    "print(l)"
   ]
  },
  {
   "cell_type": "code",
   "execution_count": 16,
   "id": "9aa38c45",
   "metadata": {},
   "outputs": [
    {
     "name": "stdout",
     "output_type": "stream",
     "text": [
      "5\n",
      "[1, 2, 3, 4]\n"
     ]
    }
   ],
   "source": [
    "l=[1,2,3,4,5]\n",
    "print(l.pop())\n",
    "print(l)"
   ]
  },
  {
   "cell_type": "code",
   "execution_count": 17,
   "id": "b8fec0b0",
   "metadata": {},
   "outputs": [
    {
     "name": "stdout",
     "output_type": "stream",
     "text": [
      "2\n"
     ]
    }
   ],
   "source": [
    "l=[5,10,15,20,25]\n",
    "print(l.index(15))"
   ]
  },
  {
   "cell_type": "code",
   "execution_count": 4,
   "id": "1588ce30",
   "metadata": {},
   "outputs": [
    {
     "name": "stdout",
     "output_type": "stream",
     "text": [
      "Occurence of 2 in list =  4\n"
     ]
    }
   ],
   "source": [
    "l=[1,2,2,3,2,4,2]\n",
    "print(\"Occurence of 2 in list = \",l.count(2))"
   ]
  },
  {
   "cell_type": "code",
   "execution_count": 8,
   "id": "affc6912",
   "metadata": {},
   "outputs": [
    {
     "name": "stdout",
     "output_type": "stream",
     "text": [
      "[3, 5, 7, 10]\n",
      "[10, 7, 5, 3]\n"
     ]
    }
   ],
   "source": [
    "l=[10,5,7,3]\n",
    "l.sort()\n",
    "print(l)\n",
    "l.sort(reverse=True)\n",
    "print(l)"
   ]
  },
  {
   "cell_type": "code",
   "execution_count": 11,
   "id": "788a5985",
   "metadata": {},
   "outputs": [
    {
     "name": "stdout",
     "output_type": "stream",
     "text": [
      "[5, 4, 3, 2, 1]\n"
     ]
    }
   ],
   "source": [
    "l=[1,2,3,4,5]\n",
    "l.reverse()\n",
    "print(l)"
   ]
  },
  {
   "cell_type": "code",
   "execution_count": 12,
   "id": "1e05882a",
   "metadata": {},
   "outputs": [
    {
     "name": "stdout",
     "output_type": "stream",
     "text": [
      "male dominating family\n",
      "code runnnn!\n"
     ]
    }
   ],
   "source": [
    "def family(count):\n",
    "    fcount=0\n",
    "    mcount=0\n",
    "    for i in range(count):\n",
    "            t=input(f\"Enter gender of family member {i + 1} (m/f): \")\n",
    "            if t==\"f\":\n",
    "                    fcount+=1\n",
    "            elif t==\"m\":\n",
    "                    mcount+=1\n",
    "            else:\n",
    "                  print(\"enter only m or f\")\n",
    "    if fcount > mcount:\n",
    "         print(\"female dominating family\")  \n",
    "    else:\n",
    "        print(\"male dominating family\")         \n",
    "try:\n",
    "    w=int(input(\"enter no. of you family members\"))\n",
    "    family(w)\n",
    "     \n",
    "except:\n",
    "    print(\"invalid input\")    \n",
    "finally:\n",
    "    print(\"code runnnn!\")    \n"
   ]
  },
  {
   "cell_type": "code",
   "execution_count": 9,
   "id": "8b61725f",
   "metadata": {},
   "outputs": [
    {
     "name": "stdout",
     "output_type": "stream",
     "text": [
      "Welcome to ATM\n",
      "Balance after withdraw = 49766\n"
     ]
    }
   ],
   "source": [
    "class atm:\n",
    "    def __init__(self,amount):\n",
    "        self.amount=amount\n",
    "    def withdraw(self,amount):\n",
    "        balance=50000\n",
    "        balance-=amount\n",
    "        print(\"Balance after withdraw =\",balance)\n",
    "    def deposit(self,amount):\n",
    "        balance=50000\n",
    "        balance+=amount\n",
    "        print(\"Balance after deposit =\",balance)\n",
    "print(\"Welcome to ATM\") \n",
    "s=atm(2400)  \n",
    "i=input(\"Enter you choice (w/d)\") \n",
    "if i==\"w\":\n",
    "  value=int(input(\"enter amount you want to withdraw\"))\n",
    "  s.withdraw(value)\n",
    "elif i==\"d\":\n",
    "    value1=int(input(\"enter amount you want to deposit\"))\n",
    "    s.deposit(value1)\n",
    "else:\n",
    "    print(\"Enter only (w or d)\")\n",
    "       \n",
    "\n"
   ]
  }
 ],
 "metadata": {
  "kernelspec": {
   "display_name": "base",
   "language": "python",
   "name": "python3"
  },
  "language_info": {
   "codemirror_mode": {
    "name": "ipython",
    "version": 3
   },
   "file_extension": ".py",
   "mimetype": "text/x-python",
   "name": "python",
   "nbconvert_exporter": "python",
   "pygments_lexer": "ipython3",
   "version": "3.13.5"
  }
 },
 "nbformat": 4,
 "nbformat_minor": 5
}
