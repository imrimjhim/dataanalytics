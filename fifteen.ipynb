{
 "cells": [
  {
   "cell_type": "code",
   "execution_count": 1,
   "id": "4c2bd02a",
   "metadata": {},
   "outputs": [
    {
     "name": "stdout",
     "output_type": "stream",
     "text": [
      "The sum of  4 and  7 = 11\n"
     ]
    }
   ],
   "source": [
    "def sum(a,b):\n",
    "       c=a+b\n",
    "       print(\"The sum of \",a,\"and \",b,\"=\",c)\n",
    "\n",
    "a=int(input(\"enter a number\"))\n",
    "b=int(input(\"enter second number\"))\n",
    "sum(a,b)"
   ]
  },
  {
   "cell_type": "code",
   "execution_count": 1,
   "id": "15371b3f",
   "metadata": {},
   "outputs": [
    {
     "name": "stdout",
     "output_type": "stream",
     "text": [
      "5 this is not a even number\n"
     ]
    }
   ],
   "source": [
    "e=int(input(\"enter a nnumber\"))\n",
    "def even(e):\n",
    "       if e%2==0:\n",
    "               print(e, \"this is an even number\")\n",
    "       else:\n",
    "             print(e, \"this is not a even number\")\n",
    " \n",
    "even(e)"
   ]
  },
  {
   "cell_type": "code",
   "execution_count": 2,
   "id": "0a8d8aee",
   "metadata": {},
   "outputs": [
    {
     "name": "stdout",
     "output_type": "stream",
     "text": [
      "Factorial of 12 is 479001600\n"
     ]
    }
   ],
   "source": [
    "def factorial(n):\n",
    "    if n == 0 or n == 1:\n",
    "        return 1\n",
    "    else:\n",
    "        return n * factorial(n - 1)\n",
    "n = int(input(\"Enter a number: \"))\n",
    "print(\"Factorial of\", n, \"is\", factorial(n))\n"
   ]
  },
  {
   "cell_type": "code",
   "execution_count": 3,
   "id": "0f1ff4ed",
   "metadata": {},
   "outputs": [
    {
     "name": "stdout",
     "output_type": "stream",
     "text": [
      "67\n"
     ]
    }
   ],
   "source": [
    "def largest(s):\n",
    "    largest = s[0]\n",
    "    for num in s:\n",
    "          if num > largest:\n",
    "              largest = num\n",
    "    print(largest)\n",
    "u = [10, 45, 32, 67, 23]\n",
    "largest(u)\n"
   ]
  },
  {
   "cell_type": "code",
   "execution_count": 60,
   "id": "45eaddfc",
   "metadata": {},
   "outputs": [
    {
     "name": "stdout",
     "output_type": "stream",
     "text": [
      "[12, 12, 23.5, 43, 76.9, 12, 12, 12, 12, 12, 2]\n",
      "[12, 12, 23.5, 43, 76.9, 12, 12, 12, 12, 12, 2, 23.54, 'python']\n",
      "[12, 24, 12, 23.5, 43, 76.9, 12, 12, 12, 12, 12, 2, 23.54, 'python']\n",
      "[12, 24, 12, 23.5, 43, 76.9, 12, 12, 12, 12, 12, 2, 23.54]\n",
      "[24, 12, 23.5, 43, 76.9, 12, 12, 12, 12, 12, 2, 23.54]\n",
      "4\n",
      "6\n",
      "[23.54, 2, 12, 12, 12, 12, 12, 76.9, 43, 23.5, 12, 24]\n",
      "[23.54, 2, 12, 12, 12, 12, 12, 76.9, 43, 23.5, 12, 24]\n",
      "[2, 12, 12, 12, 12, 12, 12, 23.5, 23.54, 24, 43, 76.9]\n",
      "[]\n"
     ]
    }
   ],
   "source": [
    "# list\n",
    "# append() add 1 element in last\n",
    "# insert() insert value at index \n",
    "# extend() insert multiple value at the end\n",
    "# pop() delete last one value \n",
    "# remove() delete first match\n",
    "# clear() delete all the items\n",
    "# index() return index value\n",
    "# count() count occurences\n",
    "# sort() sort the list\n",
    "# reverse() reverse the list\n",
    "# copy () copy the list\n",
    "\n",
    "l=[12,12,23.5,43,76.9,12,12,12,12,12]\n",
    "l.append(2)\n",
    "print(l)\n",
    "l.extend([23.54,\"python\"])\n",
    "print(l)\n",
    "l.insert(1,24)\n",
    "print(l)\n",
    "l.pop()\n",
    "print(l)\n",
    "l.remove(12)\n",
    "print(l)\n",
    "print(l.index(76.9))\n",
    "l.count(12)\n",
    "print(l.count(12))\n",
    "l.reverse()\n",
    "print(l)\n",
    "c=l.copy()\n",
    "print(c)\n",
    "l.sort()\n",
    "print(l)\n",
    "l.clear()\n",
    "print(l)"
   ]
  },
  {
   "cell_type": "code",
   "execution_count": 7,
   "id": "9d9b538f",
   "metadata": {},
   "outputs": [
    {
     "name": "stdout",
     "output_type": "stream",
     "text": [
      "mihjmir\n"
     ]
    }
   ],
   "source": [
    "s=\"rimjhim\"\n",
    "print(s[::-1])\n"
   ]
  },
  {
   "cell_type": "code",
   "execution_count": null,
   "id": "5314173e",
   "metadata": {},
   "outputs": [],
   "source": [
    "# functionn that return multiple values\n",
    "# **kwargs\n"
   ]
  },
  {
   "cell_type": "code",
   "execution_count": 3,
   "id": "006e9383",
   "metadata": {},
   "outputs": [
    {
     "name": "stdout",
     "output_type": "stream",
     "text": [
      "First Fifty Natural And Even Numbers:\n",
      "2\n",
      "4\n",
      "6\n",
      "8\n",
      "10\n",
      "12\n",
      "14\n",
      "16\n",
      "18\n",
      "20\n",
      "22\n",
      "24\n",
      "26\n",
      "28\n",
      "30\n",
      "32\n",
      "34\n",
      "36\n",
      "38\n",
      "40\n",
      "42\n",
      "44\n",
      "46\n",
      "48\n",
      "50\n"
     ]
    }
   ],
   "source": [
    "# default argument\n",
    "def natural():\n",
    "         print(\"First Fifty Natural And Even Numbers:\")\n",
    "         for n in range(1,51):\n",
    "               if n % 2 ==0 and n< 51:\n",
    "                      print(n)\n",
    "\n",
    "natural()               "
   ]
  },
  {
   "cell_type": "code",
   "execution_count": 4,
   "id": "86eac04b",
   "metadata": {},
   "outputs": [
    {
     "name": "stdout",
     "output_type": "stream",
     "text": [
      "Rimjhim is 19 years old\n"
     ]
    }
   ],
   "source": [
    "# keyword argument\n",
    "def student(name,age):\n",
    "       print(name ,\"is\",age,\"years old\")\n",
    "\n",
    "student(age=19,name=\"Rimjhim\")"
   ]
  },
  {
   "cell_type": "code",
   "execution_count": 5,
   "id": "697d74a2",
   "metadata": {},
   "outputs": [
    {
     "name": "stdout",
     "output_type": "stream",
     "text": [
      "Hello Rimjhim\n",
      "Hello Isha\n"
     ]
    }
   ],
   "source": [
    "# also known as default argument\n",
    "def greet(name=\"Rimjhim\"):\n",
    "      print(\"Hello\",name)\n",
    "greet()\n",
    "greet(\"Isha\")\n"
   ]
  },
  {
   "cell_type": "code",
   "execution_count": 6,
   "id": "d3e80084",
   "metadata": {},
   "outputs": [
    {
     "name": "stdout",
     "output_type": "stream",
     "text": [
      "144\n"
     ]
    }
   ],
   "source": [
    "def square(a):\n",
    "        print(a*a)\n",
    "a= int(input(\"enter a number\"))\n",
    "square(a)"
   ]
  }
 ],
 "metadata": {
  "kernelspec": {
   "display_name": "base",
   "language": "python",
   "name": "python3"
  },
  "language_info": {
   "codemirror_mode": {
    "name": "ipython",
    "version": 3
   },
   "file_extension": ".py",
   "mimetype": "text/x-python",
   "name": "python",
   "nbconvert_exporter": "python",
   "pygments_lexer": "ipython3",
   "version": "3.13.5"
  }
 },
 "nbformat": 4,
 "nbformat_minor": 5
}
