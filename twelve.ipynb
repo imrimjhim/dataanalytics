{
 "cells": [
  {
   "cell_type": "code",
   "execution_count": null,
   "id": "c599f0f4",
   "metadata": {},
   "outputs": [
    {
     "name": "stdout",
     "output_type": "stream",
     "text": [
      "4 x 1 = 4\n",
      "4 x 2 = 8\n",
      "4 x 3 = 12\n",
      "4 x 4 = 16\n",
      "4 x 5 = 20\n",
      "4 x 6 = 24\n",
      "4 x 7 = 28\n",
      "4 x 8 = 32\n",
      "4 x 9 = 36\n",
      "4 x 10 = 40\n"
     ]
    }
   ],
   "source": [
    "num=int(input(\"Enter a number which you want to print table of:\"))\n",
    "i=1\n",
    "while i<=10:\n",
    "     print(f\"{num} x { i} = {num * i}\")\n",
    "     i+=1\n"
   ]
  },
  {
   "cell_type": "code",
   "execution_count": null,
   "id": "9cc651ac",
   "metadata": {},
   "outputs": [
    {
     "name": "stdout",
     "output_type": "stream",
     "text": [
      " Wrong password ! you have  2 attempt left \n",
      " Wrong password ! you have  1 attempt left \n",
      "Access granted \n",
      " Wrong password ! you have  0 attempt left \n"
     ]
    }
   ],
   "source": [
    "password = \"iitm12\"\n",
    "a=3\n",
    "while a > 0:\n",
    "       user = input(\"Enter password\")\n",
    "       if user == password:           \n",
    "           print(\"Access granted \")\n",
    "           break\n",
    "       else:\n",
    "            a -= 1\n",
    "            print(\" Wrong password ! you have \", a,\"attempt left \")"
   ]
  },
  {
   "cell_type": "code",
   "execution_count": null,
   "id": "81eda787",
   "metadata": {},
   "outputs": [
    {
     "name": "stdout",
     "output_type": "stream",
     "text": [
      " Wrong password ! you have  5 attempt left \n",
      " Wrong password ! you have  4 attempt left \n"
     ]
    }
   ],
   "source": [
    "password = \"iitm12\"\n",
    "a=6\n",
    "while a > 0:\n",
    "       user = input(\"Enter password\")\n",
    "       if a==4:\n",
    "           continue\n",
    "       if a==2:\n",
    "            break\n",
    "       if user == password:           \n",
    "           print(\"Access granted \")\n",
    "           break\n",
    "       \n",
    "       else:\n",
    "           a -= 1\n",
    "           print(\" Wrong password ! you have \", a,\"attempt left \")\n"
   ]
  },
  {
   "cell_type": "code",
   "execution_count": 5,
   "id": "69d73f78",
   "metadata": {},
   "outputs": [
    {
     "name": "stdout",
     "output_type": "stream",
     "text": [
      "21 is divisible by both 3 and 7\n"
     ]
    }
   ],
   "source": [
    "a=int(input(\"Enter a  number\"))\n",
    "if (a%3==0) and (a%7==0):\n",
    "               print(a, \"is divisible by both 3 and 7\")\n",
    "else:\n",
    "      print(a, \"is not divisible by  both  3 and 7\")"
   ]
  },
  {
   "cell_type": "code",
   "execution_count": 7,
   "id": "cf099e1a",
   "metadata": {},
   "outputs": [
    {
     "name": "stdout",
     "output_type": "stream",
     "text": [
      "50\n",
      "49\n",
      "48\n",
      "47\n",
      "46\n",
      "45\n",
      "44\n",
      "43\n",
      "42\n",
      "41\n",
      "40\n",
      "39\n",
      "38\n",
      "37\n",
      "36\n",
      "35\n",
      "34\n",
      "33\n",
      "32\n",
      "31\n",
      "30\n",
      "29\n",
      "28\n",
      "27\n",
      "26\n",
      "25\n",
      "24\n",
      "23\n",
      "22\n",
      "21\n",
      "20\n",
      "19\n",
      "18\n",
      "17\n",
      "16\n",
      "15\n",
      "14\n",
      "13\n",
      "12\n",
      "11\n",
      "10\n",
      "9\n",
      "8\n",
      "7\n",
      "6\n",
      "5\n",
      "4\n",
      "3\n",
      "2\n",
      "1\n"
     ]
    }
   ],
   "source": [
    "a=50\n",
    "while a>=1:\n",
    "       print(a)\n",
    "       a-=1"
   ]
  },
  {
   "cell_type": "code",
   "execution_count": null,
   "id": "3bef1277",
   "metadata": {},
   "outputs": [],
   "source": [
    "a=1\n",
    "count=0\n",
    "while a<=100:\n",
    "       if a%5==0:\n",
    "               count+=1\n",
    "print(count)     \n",
    "    "
   ]
  }
 ],
 "metadata": {
  "kernelspec": {
   "display_name": "base",
   "language": "python",
   "name": "python3"
  },
  "language_info": {
   "codemirror_mode": {
    "name": "ipython",
    "version": 3
   },
   "file_extension": ".py",
   "mimetype": "text/x-python",
   "name": "python",
   "nbconvert_exporter": "python",
   "pygments_lexer": "ipython3",
   "version": "3.13.5"
  }
 },
 "nbformat": 4,
 "nbformat_minor": 5
}
